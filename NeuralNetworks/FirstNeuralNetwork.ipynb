{
 "cells": [
  {
   "cell_type": "markdown",
   "id": "8eb8d0ff",
   "metadata": {},
   "source": [
    "### Build a neural network using TensorFlow & Keras"
   ]
  },
  {
   "cell_type": "code",
   "execution_count": 1,
   "id": "57c891a0",
   "metadata": {},
   "outputs": [],
   "source": [
    "import tensorflow\n",
    "from tensorflow.keras.models import Sequential\n",
    "from tensorflow.keras.layers import Dense, Conv2D, Flatten"
   ]
  },
  {
   "cell_type": "markdown",
   "id": "a5ddb3e6",
   "metadata": {},
   "source": [
    "### 1. Creating the model\n",
    "\n",
    "#### 1-1. Model configuration"
   ]
  },
  {
   "cell_type": "code",
   "execution_count": 2,
   "id": "44a27b6c",
   "metadata": {},
   "outputs": [],
   "source": [
    "imgWidth, imgHeight = 28, 28 # MNIST images are 28×28 pixels\n",
    "inputShape = (imgWidth, imgHeight, 1) \n",
    "batchSize = 1000 # Batch size of 1000 samples\n",
    "epochs = 25 \n",
    "classNumber = 10 # 10 classed: 0 - 9\n",
    "validationSplit = 0.2 # 20% of training data for validation\n",
    "verbosity = 1 # View output"
   ]
  },
  {
   "cell_type": "markdown",
   "id": "253ba5b4",
   "metadata": {},
   "source": [
    "#### 1-2. Load data"
   ]
  },
  {
   "cell_type": "code",
   "execution_count": 3,
   "id": "b293ae35",
   "metadata": {},
   "outputs": [],
   "source": [
    "# Function\n",
    "def loadData():\n",
    "    return tensorflow.keras.datasets.mnist.load_data(path='mnist.npz')"
   ]
  },
  {
   "cell_type": "markdown",
   "id": "6f0aa648",
   "metadata": {},
   "source": [
    "#### 1-3. Model creation \n",
    "`The 'skeleton' of the model`"
   ]
  },
  {
   "cell_type": "code",
   "execution_count": 4,
   "id": "c599490a",
   "metadata": {},
   "outputs": [],
   "source": [
    "# Function\n",
    "def createModel():\n",
    "    model = Sequential()\n",
    "    # 2D convolutional layer\n",
    "    model.add(Conv2D(4, kernel_size=(3, 3), activation='relu', input_shape=inputShape))\n",
    "    # 2D convolutional layer\n",
    "    model.add(Conv2D(8, kernel_size=(3, 3), activation='relu'))\n",
    "    # 2D convolutional layer\n",
    "    model.add(Conv2D(12, kernel_size=(3, 3), activation='relu'))\n",
    "    # Convert filters learnt & process to a flat structure \n",
    "    model.add(Flatten())\n",
    "    # Pass data through two Dense layers\n",
    "    model.add(Dense(256, activation='relu'))\n",
    "    model.add(Dense(classNumber, activation='softmax'))\n",
    "    return model"
   ]
  },
  {
   "cell_type": "markdown",
   "id": "4e558cf9",
   "metadata": {},
   "source": [
    "#### 1-4. Compile model"
   ]
  },
  {
   "cell_type": "code",
   "execution_count": 5,
   "id": "7d3ab7a8",
   "metadata": {},
   "outputs": [],
   "source": [
    "# Function\n",
    "def compileModel(model):\n",
    "    model.compile(loss=tensorflow.keras.losses.sparse_categorical_crossentropy,\n",
    "                  optimizer=tensorflow.keras.optimizers.Adam(),\n",
    "                  metrics=['accuracy'])\n",
    "    return model"
   ]
  },
  {
   "cell_type": "markdown",
   "id": "2d36a7c6",
   "metadata": {},
   "source": [
    "#### 1-5. Training/testing components"
   ]
  },
  {
   "cell_type": "code",
   "execution_count": 6,
   "id": "1fde7542",
   "metadata": {},
   "outputs": [],
   "source": [
    "# Function\n",
    "def trainModel(model, X_train, y_train):\n",
    "    '''Model training'''\n",
    "    model.fit(X_train, y_train,\n",
    "              batch_size=batchSize,\n",
    "              epochs=epochs,\n",
    "              verbose=verbosity,\n",
    "              shuffle=True,\n",
    "              validation_split=validationSplit)\n",
    "    return model\n",
    "\n",
    "# Function\n",
    "def testModel(model, X_test, y_test):\n",
    "    '''Model testing'''\n",
    "    score = model.evaluate(X_test, y_test, verbose=0)\n",
    "    print(f'Test loss: {score[0]} / Test accuracy: {score[1]}')\n",
    "    return model"
   ]
  },
  {
   "cell_type": "markdown",
   "id": "561e4722",
   "metadata": {},
   "source": [
    "### 2. Training the model\n",
    "\n",
    "#### 2-1. Load the data"
   ]
  },
  {
   "cell_type": "code",
   "execution_count": 7,
   "id": "8b639cc1",
   "metadata": {},
   "outputs": [
    {
     "name": "stdout",
     "output_type": "stream",
     "text": [
      "(60000, 28, 28) (60000,) (10000, 28, 28) (10000,)\n"
     ]
    }
   ],
   "source": [
    "(X_train, y_train), (X_test, y_test) = loadData()\n",
    "print(X_train.shape, y_train.shape, X_test.shape, y_test.shape)"
   ]
  },
  {
   "cell_type": "markdown",
   "id": "af1781b4",
   "metadata": {},
   "source": [
    "#### 2-2. Normalise the data \n",
    "`interval [0, 1] range`"
   ]
  },
  {
   "cell_type": "code",
   "execution_count": 8,
   "id": "6a95f052",
   "metadata": {},
   "outputs": [],
   "source": [
    "# Converts the images to greyscale by dividing image samples by 255\n",
    "(X_train, X_test) = (X_train / 255.0, X_test / 255.0)"
   ]
  },
  {
   "cell_type": "markdown",
   "id": "1c500053",
   "metadata": {},
   "source": [
    "#### 2-3. Reshape the data\n",
    "`TensorFlow expects input data to have a specific structure`"
   ]
  },
  {
   "cell_type": "code",
   "execution_count": 9,
   "id": "a7ed4677",
   "metadata": {},
   "outputs": [
    {
     "name": "stdout",
     "output_type": "stream",
     "text": [
      "(60000, 28, 28, 1) (60000,) (10000, 28, 28, 1) (10000,)\n"
     ]
    }
   ],
   "source": [
    "(X_train, X_test) = (X_train.reshape(X_train.shape[0], imgWidth, imgHeight, 1),\n",
    "                     X_test.reshape(X_test.shape[0], imgWidth, imgHeight, 1))\n",
    "\n",
    "print(X_train.shape, y_train.shape, X_test.shape, y_test.shape)"
   ]
  },
  {
   "cell_type": "markdown",
   "id": "dac0f60d",
   "metadata": {},
   "source": [
    "#### 2-4. Create, compile, train/test model, interpret results"
   ]
  },
  {
   "cell_type": "code",
   "execution_count": 10,
   "id": "a8699262",
   "metadata": {},
   "outputs": [
    {
     "name": "stderr",
     "output_type": "stream",
     "text": [
      "2022-01-28 10:51:22.880146: I tensorflow/core/platform/cpu_feature_guard.cc:142] This TensorFlow binary is optimized with oneAPI Deep Neural Network Library (oneDNN) to use the following CPU instructions in performance-critical operations:  AVX2 FMA\n",
      "To enable them in other operations, rebuild TensorFlow with the appropriate compiler flags.\n",
      "2022-01-28 10:51:25.456987: I tensorflow/compiler/mlir/mlir_graph_optimization_pass.cc:185] None of the MLIR Optimization Passes are enabled (registered 2)\n"
     ]
    },
    {
     "name": "stdout",
     "output_type": "stream",
     "text": [
      "Epoch 1/25\n",
      "48/48 [==============================] - 32s 658ms/step - loss: 0.5380 - accuracy: 0.8490 - val_loss: 0.2224 - val_accuracy: 0.9367\n",
      "Epoch 2/25\n",
      "48/48 [==============================] - 31s 652ms/step - loss: 0.1642 - accuracy: 0.9531 - val_loss: 0.1170 - val_accuracy: 0.9691\n",
      "Epoch 3/25\n",
      "48/48 [==============================] - 31s 639ms/step - loss: 0.0928 - accuracy: 0.9732 - val_loss: 0.0885 - val_accuracy: 0.9760\n",
      "Epoch 4/25\n",
      "48/48 [==============================] - 29s 611ms/step - loss: 0.0678 - accuracy: 0.9800 - val_loss: 0.0804 - val_accuracy: 0.9771\n",
      "Epoch 5/25\n",
      "48/48 [==============================] - 30s 629ms/step - loss: 0.0504 - accuracy: 0.9852 - val_loss: 0.0656 - val_accuracy: 0.9818\n",
      "Epoch 6/25\n",
      "48/48 [==============================] - 30s 631ms/step - loss: 0.0410 - accuracy: 0.9880 - val_loss: 0.0675 - val_accuracy: 0.9797\n",
      "Epoch 7/25\n",
      "48/48 [==============================] - 27s 571ms/step - loss: 0.0319 - accuracy: 0.9911 - val_loss: 0.0598 - val_accuracy: 0.9837\n",
      "Epoch 8/25\n",
      "48/48 [==============================] - 30s 616ms/step - loss: 0.0255 - accuracy: 0.9927 - val_loss: 0.0586 - val_accuracy: 0.9838\n",
      "Epoch 9/25\n",
      "48/48 [==============================] - 35s 740ms/step - loss: 0.0210 - accuracy: 0.9937 - val_loss: 0.0573 - val_accuracy: 0.9851\n",
      "Epoch 10/25\n",
      "48/48 [==============================] - 24s 491ms/step - loss: 0.0162 - accuracy: 0.9957 - val_loss: 0.0635 - val_accuracy: 0.9825\n",
      "Epoch 11/25\n",
      "48/48 [==============================] - 25s 515ms/step - loss: 0.0153 - accuracy: 0.9955 - val_loss: 0.0589 - val_accuracy: 0.9846\n",
      "Epoch 12/25\n",
      "48/48 [==============================] - 33s 684ms/step - loss: 0.0111 - accuracy: 0.9971 - val_loss: 0.0582 - val_accuracy: 0.9852\n",
      "Epoch 13/25\n",
      "48/48 [==============================] - 24s 501ms/step - loss: 0.0079 - accuracy: 0.9983 - val_loss: 0.0602 - val_accuracy: 0.9850\n",
      "Epoch 14/25\n",
      "48/48 [==============================] - 35s 738ms/step - loss: 0.0071 - accuracy: 0.9983 - val_loss: 0.0659 - val_accuracy: 0.9846\n",
      "Epoch 15/25\n",
      "48/48 [==============================] - 36s 740ms/step - loss: 0.0080 - accuracy: 0.9978 - val_loss: 0.0743 - val_accuracy: 0.9820\n",
      "Epoch 16/25\n",
      "48/48 [==============================] - 38s 800ms/step - loss: 0.0089 - accuracy: 0.9972 - val_loss: 0.0675 - val_accuracy: 0.9842\n",
      "Epoch 17/25\n",
      "48/48 [==============================] - 37s 772ms/step - loss: 0.0042 - accuracy: 0.9990 - val_loss: 0.0651 - val_accuracy: 0.9847\n",
      "Epoch 18/25\n",
      "48/48 [==============================] - 35s 736ms/step - loss: 0.0031 - accuracy: 0.9993 - val_loss: 0.0733 - val_accuracy: 0.9848\n",
      "Epoch 19/25\n",
      "48/48 [==============================] - 37s 764ms/step - loss: 0.0029 - accuracy: 0.9995 - val_loss: 0.0667 - val_accuracy: 0.9857\n",
      "Epoch 20/25\n",
      "48/48 [==============================] - 35s 730ms/step - loss: 0.0023 - accuracy: 0.9995 - val_loss: 0.0707 - val_accuracy: 0.9843\n",
      "Epoch 21/25\n",
      "48/48 [==============================] - 33s 701ms/step - loss: 0.0017 - accuracy: 0.9997 - val_loss: 0.0724 - val_accuracy: 0.9855\n",
      "Epoch 22/25\n",
      "48/48 [==============================] - 27s 560ms/step - loss: 0.0011 - accuracy: 0.9999 - val_loss: 0.0696 - val_accuracy: 0.9868\n",
      "Epoch 23/25\n",
      "48/48 [==============================] - 25s 529ms/step - loss: 6.4801e-04 - accuracy: 1.0000 - val_loss: 0.0697 - val_accuracy: 0.9863\n",
      "Epoch 24/25\n",
      "48/48 [==============================] - 25s 511ms/step - loss: 4.3567e-04 - accuracy: 1.0000 - val_loss: 0.0712 - val_accuracy: 0.9863\n",
      "Epoch 25/25\n",
      "48/48 [==============================] - 33s 699ms/step - loss: 4.2411e-04 - accuracy: 1.0000 - val_loss: 0.0713 - val_accuracy: 0.9870\n",
      "Test loss: 0.051942579448223114 / Test accuracy: 0.9882000088691711\n"
     ]
    }
   ],
   "source": [
    "model = createModel()\n",
    "model = compileModel(model)\n",
    "model = trainModel(model, X_train, y_train)\n",
    "model = testModel(model, X_test, y_test)"
   ]
  }
 ],
 "metadata": {
  "kernelspec": {
   "display_name": "Python 3 (ipykernel)",
   "language": "python",
   "name": "python3"
  },
  "language_info": {
   "codemirror_mode": {
    "name": "ipython",
    "version": 3
   },
   "file_extension": ".py",
   "mimetype": "text/x-python",
   "name": "python",
   "nbconvert_exporter": "python",
   "pygments_lexer": "ipython3",
   "version": "3.9.6"
  }
 },
 "nbformat": 4,
 "nbformat_minor": 5
}
